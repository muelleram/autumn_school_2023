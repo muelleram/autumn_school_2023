{
 "cells": [
  {
   "cell_type": "code",
   "execution_count": 1,
   "id": "80ac6f31-2713-42ee-8929-5525347b2a4b",
   "metadata": {},
   "outputs": [],
   "source": [
    "from premise import *\n",
    "from datapackage import Package\n",
    "import bw2data as bw"
   ]
  },
  {
   "cell_type": "code",
   "execution_count": 2,
   "id": "68f5574a-4334-4d99-b18e-076ae3b4de79",
   "metadata": {},
   "outputs": [],
   "source": [
    "bw.projects.set_current(\"new\")"
   ]
  },
  {
   "cell_type": "code",
   "execution_count": 5,
   "id": "284d54a2-38bd-46d1-a73e-cb1b1303b9ca",
   "metadata": {},
   "outputs": [
    {
     "name": "stdout",
     "output_type": "stream",
     "text": [
      "Cache folder cleared!\n"
     ]
    }
   ],
   "source": [
    "clear_cache()"
   ]
  },
  {
   "cell_type": "code",
   "execution_count": 3,
   "id": "5424fda3-657a-470e-bc2f-b5237078be7e",
   "metadata": {},
   "outputs": [],
   "source": [
    "urls = [\n",
    "    \"/Users/romain/Library/CloudStorage/Dropbox/EP2050/energy-perspective-2050-switzerland/datapackage.json\",\n",
    "    \"https://raw.githubusercontent.com/premise-community-scenarios/cobalt-perspective-2050/main/datapackage.json\",\n",
    "    \"/Users/romain/Library/CloudStorage/Dropbox/ammonia-scenarios/ammonia-prospective-scenarios/datapackage.json\",\n",
    "    \"https://raw.githubusercontent.com/premise-community-scenarios/scenario-example-bread/main/datapackage.json\"\n",
    "    #\"/Users/romain/GitHub/scenario-example-bread-/datapackage.json\"\n",
    "]"
   ]
  },
  {
   "cell_type": "code",
   "execution_count": 4,
   "id": "943e4ba8-edc7-48ac-8c91-0aeda924b2c2",
   "metadata": {},
   "outputs": [
    {
     "name": "stdout",
     "output_type": "stream",
     "text": [
      "premise v.(1, 7, 1)\n",
      "+------------------------------------------------------------------+\n",
      "| Warning                                                          |\n",
      "+------------------------------------------------------------------+\n",
      "| Because some of the scenarios can yield LCI databases            |\n",
      "| containing net negative emission technologies (NET),             |\n",
      "| it is advised to account for biogenic CO2 flows when calculating |\n",
      "| Global Warming potential indicators.                             |\n",
      "| `premise_gwp` provides characterization factors for such flows.  |\n",
      "| It also provides factors for hydrogen emissions to air.          |\n",
      "|                                                                  |\n",
      "| Within your bw2 project:                                         |\n",
      "| from premise_gwp import add_premise_gwp                          |\n",
      "| add_premise_gwp()                                                |\n",
      "+------------------------------------------------------------------+\n",
      "+--------------------------------+----------------------------------+\n",
      "| Utils functions                | Description                      |\n",
      "+--------------------------------+----------------------------------+\n",
      "| clear_cache()                  | Clears the cache folder. Useful  |\n",
      "|                                | when updating `premise`or        |\n",
      "|                                | encountering issues with         |\n",
      "|                                | inventories.                     |\n",
      "+--------------------------------+----------------------------------+\n",
      "| get_regions_definition(model)  | Retrieves the list of countries  |\n",
      "|                                | for each region of the model.    |\n",
      "+--------------------------------+----------------------------------+\n",
      "| ndb.NewDatabase(...)           | Generates a summary of the most  |\n",
      "| ndb.generate_scenario_report() | important scenarios' variables.  |\n",
      "+--------------------------------+----------------------------------+\n",
      "Keep uncertainty data?\n",
      "NewDatabase(..., keep_uncertainty_data=True)\n",
      "\n",
      "Hide these messages?\n",
      "NewDatabase(..., quiet=True)\n",
      "\n",
      "//////////////////// EXTRACTING SOURCE DATABASE ////////////////////\n",
      "Done!\n",
      "\n",
      "////////////////// IMPORTING DEFAULT INVENTORIES ///////////////////\n",
      "Done!\n",
      "\n",
      "/////////////////////// EXTRACTING IAM DATA ////////////////////////\n",
      "Done!\n",
      "\n",
      "//////////////// IMPORTING USER-DEFINED INVENTORIES ////////////////\n",
      "Extracted 1 worksheets in 0.00 seconds\n",
      "\n",
      "//////////////// IMPORTING USER-DEFINED INVENTORIES ////////////////\n",
      "Extracted 1 worksheets in 0.00 seconds\n",
      "\n",
      "//////////////// IMPORTING USER-DEFINED INVENTORIES ////////////////\n",
      "Extracted 1 worksheets in 0.00 seconds\n",
      "\n",
      "//////////////// IMPORTING USER-DEFINED INVENTORIES ////////////////\n",
      "Extracted 1 worksheets in 0.00 seconds\n",
      "Create custom markets.\n",
      "Create custom markets.\n",
      "Create custom markets.\n",
      "Create custom markets.\n",
      "\n",
      "//////////////// IMPORTING USER-DEFINED INVENTORIES ////////////////\n",
      "Extracted 1 worksheets in 0.00 seconds\n",
      "\n",
      "//////////////// IMPORTING USER-DEFINED INVENTORIES ////////////////\n",
      "Extracted 1 worksheets in 0.00 seconds\n",
      "\n",
      "//////////////// IMPORTING USER-DEFINED INVENTORIES ////////////////\n",
      "Extracted 1 worksheets in 0.00 seconds\n",
      "\n",
      "//////////////// IMPORTING USER-DEFINED INVENTORIES ////////////////\n",
      "Extracted 1 worksheets in 0.00 seconds\n",
      "Create custom markets.\n",
      "Create custom markets.\n",
      "Create custom markets.\n",
      "Create custom markets.\n",
      "Log file of exchanges saved under /Users/romain/GitHub/premise/premise/data/logs.\n",
      "Done!\n",
      "\n"
     ]
    }
   ],
   "source": [
    "scenarios = [\n",
    "    {\"model\": \"image\", \"pathway\":\"SSP2-Base\", \"year\": 2030},\n",
    "    {\"model\": \"image\", \"pathway\":\"SSP2-Base\", \"year\": 2050},\n",
    "]\n",
    "\n",
    "ndb = NewDatabase(\n",
    "        scenarios = scenarios,        \n",
    "        source_db=\"ecoinvent 3.8 cutoff\",\n",
    "        source_version=\"3.8\",\n",
    "        key='tUePmX_S5B8ieZkkM7WUU2CnO8SmShwmAeWK9x2rTFo=',\n",
    "        external_scenarios=[Package(url) for url in urls]\n",
    ")\n",
    "#ndb.update_electricity()\n",
    "ndb.update_external_scenario()\n"
   ]
  },
  {
   "cell_type": "code",
   "execution_count": null,
   "id": "4759fbf9-848e-4bcf-8eae-b2e771e27a79",
   "metadata": {},
   "outputs": [
    {
     "name": "stdout",
     "output_type": "stream",
     "text": [
      "Building scenario factor file...\n"
     ]
    }
   ],
   "source": [
    "ndb.write_datapackage()"
   ]
  },
  {
   "cell_type": "code",
   "execution_count": 7,
   "id": "52d22b82-282f-400a-84a8-a01163d93c1a",
   "metadata": {},
   "outputs": [],
   "source": [
    "for ds in ndb.scenarios[0][\"database\"]:\n",
    "    if \"adjust efficiency\" in ds:\n",
    "        print(ds[\"name\"], ds[\"location\"], list(ds.keys()))"
   ]
  },
  {
   "cell_type": "code",
   "execution_count": 1,
   "id": "eb193dc9-707a-473c-bee1-eaf4baac4965",
   "metadata": {},
   "outputs": [],
   "source": [
    "from premise import *"
   ]
  },
  {
   "cell_type": "code",
   "execution_count": 4,
   "id": "c7f22d48-9a55-45e5-81c4-f9abf21f1601",
   "metadata": {},
   "outputs": [
    {
     "data": {
      "text/plain": [
       "(1, 3, 9)"
      ]
     },
     "execution_count": 4,
     "metadata": {},
     "output_type": "execute_result"
    }
   ],
   "source": [
    "from premise import __version__\n",
    "__version__"
   ]
  },
  {
   "cell_type": "code",
   "execution_count": 6,
   "id": "331da075-2b54-4dd5-9433-51884b87e506",
   "metadata": {},
   "outputs": [
    {
     "name": "stdout",
     "output_type": "stream",
     "text": [
      "The data package contains the following scenarios:\n",
      "+-----+--------------------------+-----------------------------------------------------------------------+\n",
      "| No. |         Scenario         |                              Description                              |\n",
      "+-----+--------------------------+-----------------------------------------------------------------------+\n",
      "|  0  | image - SSP2-Base - 2030 | Prospective db, based on IMAGE, pathway SSP2-BASE, for the year 2030. |\n",
      "|  1  | image - SSP2-Base - 2050 | Prospective db, based on IMAGE, pathway SSP2-BASE, for the year 2050. |\n",
      "+-----+--------------------------+-----------------------------------------------------------------------+\n",
      "\n",
      "To unfold all scenarios, `unfold()`.\n",
      "To unfold a specific scenario, `unfold(scenarios=[1,])`.\n"
     ]
    }
   ],
   "source": [
    "from unfold import Unfold\n",
    "u = Unfold(\"export/datapackage/test.zip\")"
   ]
  },
  {
   "cell_type": "code",
   "execution_count": 7,
   "id": "2d21b4de-6b09-45fe-8780-2a7c8cb40cdc",
   "metadata": {},
   "outputs": [
    {
     "name": "stdout",
     "output_type": "stream",
     "text": [
      "The following databases are necessary to unfold the scenarios:\n",
      "+-----+------------+--------------+---------+\n",
      "| No. | Dependency | System model | Version |\n",
      "+-----+------------+--------------+---------+\n",
      "|  1  | ecoinvent  |   cut-off    |   3.8   |\n",
      "|  2  | biosphere3 |              |         |\n",
      "+-----+------------+--------------+---------+\n",
      "\n",
      "The following databases are available in your project:\n",
      "+-----+----------------------------------------------------+\n",
      "| No. |                      Database                      |\n",
      "+-----+----------------------------------------------------+\n",
      "|  1  |                     biosphere3                     |\n",
      "|  2  |                ecoinvent 3.8 cutoff                |\n",
      "|  3  |                   carculator_lci                   |\n",
      "|  4  |                carculator_lci_truck                |\n",
      "|  5  |            carculator import20.11.2021             |\n",
      "|  6  |                 nuclear fuel chain                 |\n",
      "|  7  |                nuclear electricity                 |\n",
      "|  8  |              nuclear electricity SMR               |\n",
      "|  9  |                    wave_energy                     |\n",
      "|  10 |                      RTE_2020                      |\n",
      "|  11 |                      RTE_2030                      |\n",
      "|  12 |                      RTE_2040                      |\n",
      "|  13 |                      RTE_2050                      |\n",
      "|  14 |                    HDfuels_2035                    |\n",
      "|  15 |                HDfuels_2035_EU_only                |\n",
      "|  16 |                      carina_1                      |\n",
      "|  17 |              premise_remind_ssp2_base              |\n",
      "|  18 |                      amelie_1                      |\n",
      "|  19 |                      amelie_2                      |\n",
      "|  20 |                       841_db                       |\n",
      "|  21 |           ecoinvent_remind_SSP2-NPi_2005           |\n",
      "|  22 |           ecoinvent_remind_SSP2-NPi_2010           |\n",
      "|  23 |           ecoinvent_remind_SSP2-NPi_2020           |\n",
      "|  24 |           ecoinvent_remind_SSP2-NPi_2030           |\n",
      "|  25 |           ecoinvent_remind_SSP2-NPi_2040           |\n",
      "|  26 |           ecoinvent_remind_SSP2-NPi_2050           |\n",
      "|  27 |       ecoinvent_remind_SSP2-PkBudg1150_2030        |\n",
      "|  28 |       ecoinvent_remind_SSP2-PkBudg1150_2040        |\n",
      "|  29 |       ecoinvent_remind_SSP2-PkBudg1150_2050        |\n",
      "|  30 |        ecoinvent_remind_SSP2-PkBudg500_2030        |\n",
      "|  31 |        ecoinvent_remind_SSP2-PkBudg500_2040        |\n",
      "|  32 |        ecoinvent_remind_SSP2-PkBudg500_2050        |\n",
      "|  33 |                  Mobility example                  |\n",
      "|  34 |                      forwast                       |\n",
      "|  35 |                    Car db_ei_36                    |\n",
      "|  36 |                      metals1                       |\n",
      "|  37 |                 carculator_lci_car                 |\n",
      "|  38 |                     metals_ref                     |\n",
      "|  39 |                 direct air capture                 |\n",
      "|  40 |              image - SSP2-Base - 2030              |\n",
      "|  41 |             image - SSP2-RCP19 - 2030              |\n",
      "|  42 |                      test_dac                      |\n",
      "|  43 |                     test_dac2                      |\n",
      "|  44 |                 reference_database                 |\n",
      "|  45 |                        db A                        |\n",
      "|  46 |                        db B                        |\n",
      "|  47 |                        test                        |\n",
      "|  48 |            ecoinvent 3.8 consequential             |\n",
      "|  49 |   ecoinvent_consequential_image_SSP2-RCP26_2050    |\n",
      "|  50 |   ecoinvent_consequential_remind_SSP2-Base_2050    |\n",
      "|  51 |   ecoinvent_attributional_remind_SSP2-Base_2005    |\n",
      "|  52 | ecoinvent_attributional_remind_SSP2-PkBudg500_2100 |\n",
      "|  53 |   ecoinvent_attributional_image_SSP2-RCP26_2050    |\n",
      "|  54 |   ecoinvent_attributional_remind_SSP1-Base_2005    |\n",
      "|  55 |   ecoinvent_attributional_remind_SSP5-Base_2050    |\n",
      "|  56 |     ecoinvent_cutoff_3.8_image_SSP2-Base_2040      |\n",
      "|  57 |     ecoinvent_cutoff_3.8_image_SSP2-Base_2025      |\n",
      "|  58 |     ecoinvent_cutoff_3.8_image_SSP2-Base_2035      |\n",
      "|  59 |     ecoinvent_cutoff_3.8_image_SSP2-RCP26_2045     |\n",
      "|  60 |     ecoinvent_cutoff_3.8_image_SSP2-Base_2030      |\n",
      "|  61 |     ecoinvent_cutoff_3.8_image_SSP2-Base_2050      |\n",
      "|  62 |                super_db_2023-04-06                 |\n",
      "|  63 |           remind - SSP2-PkBudg500 - 2095           |\n",
      "|  64 |           remind - SSP2-PkBudg500 - 2100           |\n",
      "+-----+----------------------------------------------------+\n",
      "\n"
     ]
    },
    {
     "name": "stdin",
     "output_type": "stream",
     "text": [
      "Indicate the database number for dependency 1:  2\n",
      "Indicate the database number for dependency 2:  1\n"
     ]
    },
    {
     "name": "stdout",
     "output_type": "stream",
     "text": [
      "Getting activity data\n"
     ]
    },
    {
     "name": "stderr",
     "output_type": "stream",
     "text": [
      "100%|██████████████████████████████████| 19565/19565 [00:00<00:00, 24145.91it/s]\n"
     ]
    },
    {
     "name": "stdout",
     "output_type": "stream",
     "text": [
      "Adding exchange data to activities\n"
     ]
    },
    {
     "name": "stderr",
     "output_type": "stream",
     "text": [
      "100%|████████████████████████████████| 629959/629959 [00:57<00:00, 10946.84it/s]\n"
     ]
    },
    {
     "name": "stdout",
     "output_type": "stream",
     "text": [
      "Filling out exchange data\n"
     ]
    },
    {
     "name": "stderr",
     "output_type": "stream",
     "text": [
      "100%|███████████████████████████████████| 19565/19565 [00:03<00:00, 5379.50it/s]\n"
     ]
    },
    {
     "name": "stdout",
     "output_type": "stream",
     "text": [
      "Getting activity data\n"
     ]
    },
    {
     "name": "stderr",
     "output_type": "stream",
     "text": [
      "100%|███████████████████████████████████| 4451/4451 [00:00<00:00, 259740.48it/s]\n"
     ]
    },
    {
     "name": "stdout",
     "output_type": "stream",
     "text": [
      "Adding exchange data to activities\n"
     ]
    },
    {
     "name": "stderr",
     "output_type": "stream",
     "text": [
      "0it [00:00, ?it/s]\n"
     ]
    },
    {
     "name": "stdout",
     "output_type": "stream",
     "text": [
      "Filling out exchange data\n"
     ]
    },
    {
     "name": "stderr",
     "output_type": "stream",
     "text": [
      "100%|██████████████████████████████████| 4451/4451 [00:00<00:00, 4936236.67it/s]\n"
     ]
    },
    {
     "name": "stdout",
     "output_type": "stream",
     "text": [
      "Extracting additional inventories...\n",
      "Generating database for scenario image - SSP2-Base - 2030...\n",
      "Generating database for scenario image - SSP2-Base - 2050...\n",
      "Writing database for scenario image - SSP2-Base - 2030...\n",
      "Database image - SSP2-Base - 2030 already exists: it will be overwritten.\n",
      "Vacuuming database \n"
     ]
    },
    {
     "name": "stderr",
     "output_type": "stream",
     "text": [
      "Writing activities to SQLite3 database:\n",
      "0% [##############################] 100% | ETA: 00:00:00\n",
      "Total time elapsed: 00:00:58\n"
     ]
    },
    {
     "name": "stdout",
     "output_type": "stream",
     "text": [
      "Title: Writing activities to SQLite3 database:\n",
      "  Started: 04/07/2023 22:18:35\n",
      "  Finished: 04/07/2023 22:19:34\n",
      "  Total time elapsed: 00:00:58\n",
      "  CPU %: 83.20\n",
      "  Memory %: 35.54\n",
      "Created database: image - SSP2-Base - 2030\n",
      "Writing database for scenario image - SSP2-Base - 2050...\n"
     ]
    },
    {
     "name": "stderr",
     "output_type": "stream",
     "text": [
      "Writing activities to SQLite3 database:\n",
      "0% [##############################] 100% | ETA: 00:00:00\n",
      "Total time elapsed: 00:01:16\n"
     ]
    },
    {
     "name": "stdout",
     "output_type": "stream",
     "text": [
      "Title: Writing activities to SQLite3 database:\n",
      "  Started: 04/07/2023 22:22:55\n",
      "  Finished: 04/07/2023 22:24:11\n",
      "  Total time elapsed: 00:01:16\n",
      "  CPU %: 77.60\n",
      "  Memory %: 28.68\n",
      "Created database: image - SSP2-Base - 2050\n"
     ]
    }
   ],
   "source": [
    "u.unfold()"
   ]
  },
  {
   "cell_type": "code",
   "execution_count": 9,
   "id": "43402278-3fd9-40ad-bb8b-faa2479ed92b",
   "metadata": {},
   "outputs": [
    {
     "data": {
      "text/plain": [
       "'/Users/romain/GitHub/unfold/unfold/__init__.py'"
      ]
     },
     "execution_count": 9,
     "metadata": {},
     "output_type": "execute_result"
    }
   ],
   "source": [
    "import unfold\n",
    "unfold.__file__"
   ]
  },
  {
   "cell_type": "code",
   "execution_count": 9,
   "id": "94f8e607-03f3-4ac3-952d-b15a59e0b5f0",
   "metadata": {},
   "outputs": [
    {
     "name": "stdout",
     "output_type": "stream",
     "text": [
      "('Sulfur hexafluoride', None, None, ('air',))\n",
      "('Sulfur hexafluoride', None, None, ('air', 'lower stratosphere + upper troposphere'))\n",
      "('Sulfur hexafluoride', None, None, ('air', 'urban air close to ground'))\n",
      "('Sulfur hexafluoride', None, None, ('air', 'low population density, long-term'))\n",
      "('Sulfur hexafluoride', None, None, ('air', 'non-urban air or from high stacks'))\n"
     ]
    }
   ],
   "source": [
    "for i in u.dependency_mapping:\n",
    "    if i[0] == \"Sulfur hexafluoride\":\n",
    "        print(i)"
   ]
  },
  {
   "cell_type": "code",
   "execution_count": 12,
   "id": "7ab0ccdb-478b-42a5-949d-764f17cd9106",
   "metadata": {},
   "outputs": [
    {
     "name": "stdout",
     "output_type": "stream",
     "text": [
      "market for electricity, low voltage, EP2050 {'name': 'Sulfur hexafluoride', 'product': None, 'unit': 'kilogram', 'location': None, 'categories': ('air', 'unspecified'), 'type': 'biosphere', 'amount': 3.0729701952723535e-09, 'input': None}\n",
      "market for electricity, high voltage, EP2050 {'name': 'Dinitrogen monoxide', 'product': None, 'unit': 'kilogram', 'location': None, 'categories': ('air', 'unspecified'), 'type': 'biosphere', 'amount': 5e-06, 'input': None}\n",
      "market for electricity, high voltage, EP2050 {'name': 'Ozone', 'product': None, 'unit': 'kilogram', 'location': None, 'categories': ('air', 'unspecified'), 'type': 'biosphere', 'amount': 4.16e-06, 'input': None}\n",
      "market for electricity, medium voltage, EP2050 {'name': 'Sulfur hexafluoride', 'product': None, 'unit': 'kilogram', 'location': None, 'categories': ('air', 'unspecified'), 'type': 'biosphere', 'amount': 5.7754010695187156e-08, 'input': None}\n",
      "market for electricity, from neighboring countries, high voltage, EP2050 {'name': 'Dinitrogen monoxide', 'product': None, 'unit': 'kilogram', 'location': None, 'categories': ('air', 'unspecified'), 'type': 'biosphere', 'amount': 5e-06, 'input': None}\n",
      "market for electricity, from neighboring countries, high voltage, EP2050 {'name': 'Ozone', 'product': None, 'unit': 'kilogram', 'location': None, 'categories': ('air', 'unspecified'), 'type': 'biosphere', 'amount': 4.16e-06, 'input': None}\n"
     ]
    }
   ],
   "source": [
    "for ds in u.databases_to_export[\"image - SSP2-Base - 2030\"]:\n",
    "    for e in ds[\"exchanges\"]:\n",
    "        if e.get(\"categories\") == ('air', 'unspecified'):\n",
    "            print(ds[\"name\"], e)"
   ]
  },
  {
   "cell_type": "code",
   "execution_count": 7,
   "id": "6ba265ad-940b-4f11-8025-7b5428d61507",
   "metadata": {},
   "outputs": [],
   "source": [
    "d = {\"a\": \"c\", \"b\": \"d\"}"
   ]
  },
  {
   "cell_type": "code",
   "execution_count": 10,
   "id": "5f43c98d-9d9e-4801-bcba-2e68f7e2ff9b",
   "metadata": {},
   "outputs": [
    {
     "data": {
      "text/plain": [
       "{'c': 0, 'd': 1}"
      ]
     },
     "execution_count": 10,
     "metadata": {},
     "output_type": "execute_result"
    }
   ],
   "source": [
    "{v: k for k, v in enumerate(d.values())}"
   ]
  },
  {
   "cell_type": "code",
   "execution_count": 4,
   "id": "757fe761-3a0a-4dc9-b7ff-ec39879f12de",
   "metadata": {},
   "outputs": [
    {
     "data": {
      "text/plain": [
       "[(0, 'a'), (1, 'b')]"
      ]
     },
     "execution_count": 4,
     "metadata": {},
     "output_type": "execute_result"
    }
   ],
   "source": [
    "list(enumerate(d))"
   ]
  },
  {
   "cell_type": "code",
   "execution_count": 6,
   "id": "e905081f-adb6-404f-8c6f-37f845fcd3dd",
   "metadata": {},
   "outputs": [
    {
     "data": {
      "text/plain": [
       "[(0, 'a'), (1, 'b')]"
      ]
     },
     "execution_count": 6,
     "metadata": {},
     "output_type": "execute_result"
    }
   ],
   "source": [
    "list(enumerate(d.keys()))"
   ]
  },
  {
   "cell_type": "code",
   "execution_count": null,
   "id": "58642a48-253d-490a-a87f-d1af50e7fb81",
   "metadata": {},
   "outputs": [],
   "source": []
  }
 ],
 "metadata": {
  "kernelspec": {
   "display_name": "Python 3 (ipykernel)",
   "language": "python",
   "name": "python3"
  },
  "language_info": {
   "codemirror_mode": {
    "name": "ipython",
    "version": 3
   },
   "file_extension": ".py",
   "mimetype": "text/x-python",
   "name": "python",
   "nbconvert_exporter": "python",
   "pygments_lexer": "ipython3",
   "version": "3.10.12"
  }
 },
 "nbformat": 4,
 "nbformat_minor": 5
}
